{
 "cells": [
  {
   "cell_type": "markdown",
   "id": "c9048299",
   "metadata": {},
   "source": [
    "## El Juego del Calamar\n",
    "\n",
    "En el quinto juego planteado en la serie del Juego del Calamar los jugadores tienen que atravesar un puente de cristal con un total de 18 peldaños. En cada uno de ellos hay dos cristales: uno de cristal templado (capaz de soportar el peso de dos jugadores) y uno de cristal normal (que se rompe con simplemente pisarlo). Si un jugador pisa un cristal normal éste se rompe y el jugador queda eliminado (lo que en la serie significa muerto)\n",
    "\n",
    "En la serie un total de 16 jugadores llegan a esta prueba y tienen que atravesar el puente en un orden determinado de antemano (lo escogen los mismos jugadores, aunque no saben para qué es).\n",
    "\n",
    "En la primera simulación tomaremos como valores\n",
    "\n",
    "jugadores = 16\n",
    "peldaños = 18\n",
    "probabilidad de elegir el cristal templado = 0,5\n",
    "\n",
    "Para la simulación, en principio tomaremos 100.000 repeticiones."
   ]
  },
  {
   "cell_type": "markdown",
   "id": "04434c3f",
   "metadata": {},
   "source": [
    "Método:\n",
    "Para cada paseo se genera un valor de una uniforme (0,1). Si el resultado es inferior a la probabilidad (en nuestro caso p=0,5) consideramos que los jugadores han acertado. En caso contrario han fallado.\n",
    "\n",
    "El número de supervivientes se calculará como el total de jugadores (en nuestro caso 18) menos el número de fallos."
   ]
  },
  {
   "cell_type": "code",
   "execution_count": 1,
   "id": "075a64b0",
   "metadata": {},
   "outputs": [],
   "source": [
    "# Probabilidad de acierto\n",
    "p = 0.5\n",
    "\n",
    "# Número de peldaños\n",
    "peldaños <- 18\n",
    "\n",
    "# Jugadores\n",
    "jugadores <- 16\n",
    "\n",
    "# Número de muestras\n",
    "muestras <- 100000\n",
    "\n",
    "supervivientes_m <- c(1:muestras)\n",
    "\n",
    "\n",
    "for (i in 1:muestras)\n",
    "{\n",
    "paseo <- runif(n = 18, min = 0, max = 1)\n",
    "paseo2 <- (paseo <= p)\n",
    "# paseo\n",
    "# paseo2\n",
    "aciertos <- sum(paseo2)\n",
    "fallos <- peldaños - aciertos\n",
    "supervivientes <- jugadores - fallos\n",
    "if (supervivientes<0)\n",
    "{\n",
    "  supervivientes <- 0\n",
    "}\n",
    "  supervivientes_m[i]<-supervivientes\n",
    "}\n",
    "\n",
    "\n",
    "\n",
    "\n"
   ]
  },
  {
   "cell_type": "markdown",
   "id": "52d687ca",
   "metadata": {},
   "source": [
    "Número medio de supervivientes:"
   ]
  },
  {
   "cell_type": "code",
   "execution_count": 2,
   "id": "f67a1176",
   "metadata": {},
   "outputs": [
    {
     "data": {
      "text/html": [
       "6.98086"
      ],
      "text/latex": [
       "6.98086"
      ],
      "text/markdown": [
       "6.98086"
      ],
      "text/plain": [
       "[1] 6.98086"
      ]
     },
     "metadata": {},
     "output_type": "display_data"
    }
   ],
   "source": [
    "mean(supervivientes_m)"
   ]
  },
  {
   "cell_type": "markdown",
   "id": "a47b7ba4",
   "metadata": {},
   "source": [
    "Histograma del número de supervivientes"
   ]
  },
  {
   "cell_type": "code",
   "execution_count": 3,
   "id": "10ebd741",
   "metadata": {},
   "outputs": [
    {
     "data": {
      "image/png": "[encoded data removed]",
      "text/plain": [
       "Plot with title \"Histogram of supervivientes_m\""
      ]
     },
     "metadata": {
      "image/png": {
       "height": 420,
       "width": 420
      }
     },
     "output_type": "display_data"
    }
   ],
   "source": [
    "hist(supervivientes_m)"
   ]
  },
  {
   "cell_type": "markdown",
   "id": "2cffd519",
   "metadata": {},
   "source": [
    "Tablas de frecuencias:"
   ]
  },
  {
   "cell_type": "code",
   "execution_count": 4,
   "id": "994d0740",
   "metadata": {},
   "outputs": [
    {
     "data": {
      "text/plain": [
       "\n",
       "\n",
       "Table: Frecuencias absolutas\n",
       "\n",
       "|supervivientes_m |  Freq|\n",
       "|:----------------|-----:|\n",
       "|0                |    65|\n",
       "|1                |   281|\n",
       "|2                |  1209|\n",
       "|3                |  3206|\n",
       "|4                |  7311|\n",
       "|5                | 12204|\n",
       "|6                | 16758|\n",
       "|7                | 18574|\n",
       "|8                | 16706|\n",
       "|9                | 12054|\n",
       "|10               |  7049|\n",
       "|11               |  3111|\n",
       "|12               |  1111|\n",
       "|13               |   298|\n",
       "|14               |    57|\n",
       "|15               |     6|"
      ]
     },
     "metadata": {},
     "output_type": "display_data"
    },
    {
     "data": {
      "text/plain": [
       "\n",
       "\n",
       "Table: Frecuencias relativas\n",
       "\n",
       "|supervivientes_m |    Freq|\n",
       "|:----------------|-------:|\n",
       "|0                | 0.00065|\n",
       "|1                | 0.00281|\n",
       "|2                | 0.01209|\n",
       "|3                | 0.03206|\n",
       "|4                | 0.07311|\n",
       "|5                | 0.12204|\n",
       "|6                | 0.16758|\n",
       "|7                | 0.18574|\n",
       "|8                | 0.16706|\n",
       "|9                | 0.12054|\n",
       "|10               | 0.07049|\n",
       "|11               | 0.03111|\n",
       "|12               | 0.01111|\n",
       "|13               | 0.00298|\n",
       "|14               | 0.00057|\n",
       "|15               | 0.00006|"
      ]
     },
     "metadata": {},
     "output_type": "display_data"
    }
   ],
   "source": [
    "tabla <- table(supervivientes_m)\n",
    "tabla_f <- prop.table(tabla)\n",
    "\n",
    "knitr::kable(\n",
    "  tabla,\n",
    "  caption = \"Frecuencias absolutas\"\n",
    ")\n",
    "\n",
    "knitr::kable(\n",
    "  tabla_f,\n",
    "  caption = \"Frecuencias relativas\"\n",
    ")"
   ]
  },
  {
   "cell_type": "markdown",
   "id": "0431b56e",
   "metadata": {},
   "source": [
    "Porcentaje de resultados con 3 o menos supervivientes"
   ]
  },
  {
   "cell_type": "code",
   "execution_count": 5,
   "id": "5b9294e3",
   "metadata": {},
   "outputs": [
    {
     "data": {
      "text/html": [
       "4.761"
      ],
      "text/latex": [
       "4.761"
      ],
      "text/markdown": [
       "4.761"
      ],
      "text/plain": [
       "[1] 4.761"
      ]
     },
     "metadata": {},
     "output_type": "display_data"
    }
   ],
   "source": [
    "tablamenor3 <- table(supervivientes_m, exclude=c(4,5,6,7,8,9,10,11,12,13,14,15,16))\n",
    "menor3 <- sum(tablamenor3) \n",
    "total <- sum(tabla)\n",
    "100*menor3/total"
   ]
  },
  {
   "cell_type": "markdown",
   "id": "2320215b",
   "metadata": {},
   "source": [
    "Según la simulación el número medio de superviventes está alrededor de 7 y el porcentaje de ocasiones en las que sobreviven 3 o menos jugadores es menor del 5%. Por lo tanto podríamos decir que el resultado que se produce en la serie (3 supervivientes) es muy poco probable e inferior al esperado."
   ]
  },
  {
   "cell_type": "markdown",
   "id": "b55381b4",
   "metadata": {},
   "source": [
    "Esta misma simulación podríamos haberla realizado utilizando la distribución binomial para calcular el número de éxitos en cada paseo directamente en lugar de generar los valores individuales para cada paso."
   ]
  },
  {
   "cell_type": "markdown",
   "id": "27ef39eb",
   "metadata": {},
   "source": [
    "Otra forma de plantear el problema en lugar de hacer una simulación es plantear que el número de cristales rotos se puede considerar una distribución binomial con parámetros n=18 (número de peldaños) y p=0,5 (probabilidad de romper el cristal).\n",
    "\n",
    "Si el número de cristales rotos es igual o superior a 16 (número de jugadores) el número de supervivientes será cero. Si el número de cristales rotos es menor a 16 el número de supervivientes será (16 - número de cristales rotos)\n",
    "\n",
    "Por lo tanto para calcular la probabilidad de que sobrevivan 3 o menos jugadores tendremos que calcular la probabilidad de que el número de cristales rotos sea 13 o mayor."
   ]
  },
  {
   "cell_type": "code",
   "execution_count": 6,
   "id": "969badc8",
   "metadata": {},
   "outputs": [
    {
     "data": {
      "text/html": [
       "<style>\n",
       ".list-inline {list-style: none; margin:0; padding: 0}\n",
       ".list-inline>li {display: inline-block}\n",
       ".list-inline>li:not(:last-child)::after {content: \"\\00b7\"; padding: 0 .5ex}\n",
       "</style>\n",
       "<ol class=list-inline><li>0.032684326171875</li><li>0.0116729736328125</li><li>0.00311279296875</li><li>0.000583648681640626</li></ol>\n"
      ],
      "text/latex": [
       "\\begin{enumerate*}\n",
       "\\item 0.032684326171875\n",
       "\\item 0.0116729736328125\n",
       "\\item 0.00311279296875\n",
       "\\item 0.000583648681640626\n",
       "\\end{enumerate*}\n"
      ],
      "text/markdown": [
       "1. 0.032684326171875\n",
       "2. 0.0116729736328125\n",
       "3. 0.00311279296875\n",
       "4. 0.000583648681640626\n",
       "\n",
       "\n"
      ],
      "text/plain": [
       "[1] 0.0326843262 0.0116729736 0.0031127930 0.0005836487"
      ]
     },
     "metadata": {},
     "output_type": "display_data"
    }
   ],
   "source": [
    "dbinom(x = 13:16, size = 18, prob = 0.5)"
   ]
  },
  {
   "cell_type": "code",
   "execution_count": 7,
   "id": "c7b90378",
   "metadata": {},
   "outputs": [
    {
     "data": {
      "text/html": [
       "4.8126220703125"
      ],
      "text/latex": [
       "4.8126220703125"
      ],
      "text/markdown": [
       "4.8126220703125"
      ],
      "text/plain": [
       "[1] 4.812622"
      ]
     },
     "metadata": {},
     "output_type": "display_data"
    }
   ],
   "source": [
    "100*sum(dbinom(x = 13:peldaños, size = peldaños, prob = p))"
   ]
  },
  {
   "cell_type": "markdown",
   "id": "92ddc8e5",
   "metadata": {},
   "source": [
    "Vemos que la probabilidad de que sobrevivan 3 o menos jugados es de 4,8126% y que el resultado de la simulación es muy similar al mismo."
   ]
  }
 ],
 "metadata": {
  "kernelspec": {
   "display_name": "R",
   "language": "R",
   "name": "ir"
  },
  "language_info": {
   "codemirror_mode": "r",
   "file_extension": ".r",
   "mimetype": "text/x-r-source",
   "name": "R",
   "pygments_lexer": "r",
   "version": "3.6.1"
  }
 },
 "nbformat": 4,
 "nbformat_minor": 5
}
