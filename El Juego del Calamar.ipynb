{
 "cells": [
  {
   "cell_type": "markdown",
   "id": "c9048299",
   "metadata": {},
   "source": [
    "## El Juego del Calamar\n",
    "\n",
    "En el quinto juego planteado en la serie del Juego del Calamar los jugadores tienen que atravesar un puente de cristal con un total de 18 peldaños. En cada uno de ellos hay dos cristales: uno de cristal templado (capaz de soportar el peso de dos jugadores) y uno de cristal normal (que se rompe con simplemente pisarlo). Si un jugador pisa un cristal normal éste se rompe y el jugador queda eliminado (lo que en la serie significa muerto)\n",
    "\n",
    "En la serie un total de 16 jugadores llegan a esta prueba y tienen que atravesar el puente en un orden determinado de antemano (lo escogen los mismos jugadores, aunque no saben para qué es).\n",
    "\n",
    "En la primera simulación tomaremos como valores\n",
    "\n",
    "jugadores = 16\n",
    "peldaños = 18\n",
    "probabilidad de elegir el cristal templado = 0,5\n",
    "\n",
    "Para la simulación, en principio tomaremos 100.000 repeticiones."
   ]
  },
  {
   "cell_type": "markdown",
   "id": "04434c3f",
   "metadata": {},
   "source": [
    "Método:\n",
    "Para cada paseo se genera un valor de una uniforme (0,1). Si el resultado es inferior a la probabilidad (en nuestro caso p=0,5) consideramos que los jugadores han acertado. En caso contrario han fallado.\n",
    "\n",
    "El número de supervivientes se calculará como el total de jugadores (en nuestro caso 18) menos el número de fallos."
   ]
  },
  {
   "cell_type": "code",
   "execution_count": 1,
   "id": "075a64b0",
   "metadata": {},
   "outputs": [],
   "source": [
    "# Probabilidad de acierto\n",
    "p = 0.5\n",
    "\n",
    "# Número de peldaños\n",
    "peldaños <- 18\n",
    "\n",
    "# Jugadores\n",
    "jugadores <- 16\n",
    "\n",
    "# Número de muestras\n",
    "muestras <- 100000\n",
    "\n",
    "supervivientes_m <- c(1:muestras)\n",
    "\n",
    "\n",
    "for (i in 1:muestras)\n",
    "{\n",
    "paseo <- runif(n = 18, min = 0, max = 1)\n",
    "paseo2 <- (paseo <= p)\n",
    "# paseo\n",
    "# paseo2\n",
    "aciertos <- sum(paseo2)\n",
    "fallos <- peldaños - aciertos\n",
    "supervivientes <- jugadores - fallos\n",
    "if (supervivientes<0)\n",
    "{\n",
    "  supervivientes <- 0\n",
    "}\n",
    "  supervivientes_m[i]<-supervivientes\n",
    "}\n",
    "\n",
    "\n",
    "\n",
    "\n"
   ]
  },
  {
   "cell_type": "markdown",
   "id": "52d687ca",
   "metadata": {},
   "source": [
    "Número medio de supervivientes:"
   ]
  },
  {
   "cell_type": "code",
   "execution_count": 2,
   "id": "f67a1176",
   "metadata": {},
   "outputs": [
    {
     "data": {
      "text/html": [
       "7.0127"
      ],
      "text/latex": [
       "7.0127"
      ],
      "text/markdown": [
       "7.0127"
      ],
      "text/plain": [
       "[1] 7.0127"
      ]
     },
     "metadata": {},
     "output_type": "display_data"
    }
   ],
   "source": [
    "mean(supervivientes_m)"
   ]
  },
  {
   "cell_type": "markdown",
   "id": "a47b7ba4",
   "metadata": {},
   "source": [
    "Histograma del número de supervivientes"
   ]
  },
  {
   "cell_type": "code",
   "execution_count": 3,
   "id": "10ebd741",
   "metadata": {},
   "outputs": [
    {
     "data": {
      "image/png": "[encoded data removed]",
      "text/plain": [
       "Plot with title \"Histogram of supervivientes_m\""
      ]
     },
     "metadata": {
      "image/png": {
       "height": 420,
       "width": 420
      }
     },
     "output_type": "display_data"
    }
   ],
   "source": [
    "hist(supervivientes_m)"
   ]
  },
  {
   "cell_type": "markdown",
   "id": "2cffd519",
   "metadata": {},
   "source": [
    "Tablas de frecuencias:"
   ]
  },
  {
   "cell_type": "code",
   "execution_count": 4,
   "id": "994d0740",
   "metadata": {},
   "outputs": [
    {
     "data": {
      "text/plain": [
       "\n",
       "\n",
       "Table: Frecuencias absolutas\n",
       "\n",
       "|supervivientes_m |  Freq|\n",
       "|:----------------|-----:|\n",
       "|0                |    74|\n",
       "|1                |   299|\n",
       "|2                |  1175|\n",
       "|3                |  3309|\n",
       "|4                |  6918|\n",
       "|5                | 12115|\n",
       "|6                | 16696|\n",
       "|7                | 18381|\n",
       "|8                | 16762|\n",
       "|9                | 12211|\n",
       "|10               |  7137|\n",
       "|11               |  3317|\n",
       "|12               |  1203|\n",
       "|13               |   339|\n",
       "|14               |    52|\n",
       "|15               |    11|\n",
       "|16               |     1|"
      ]
     },
     "metadata": {},
     "output_type": "display_data"
    },
    {
     "data": {
      "text/plain": [
       "\n",
       "\n",
       "Table: Frecuencias relativas\n",
       "\n",
       "|supervivientes_m |    Freq|\n",
       "|:----------------|-------:|\n",
       "|0                | 0.00074|\n",
       "|1                | 0.00299|\n",
       "|2                | 0.01175|\n",
       "|3                | 0.03309|\n",
       "|4                | 0.06918|\n",
       "|5                | 0.12115|\n",
       "|6                | 0.16696|\n",
       "|7                | 0.18381|\n",
       "|8                | 0.16762|\n",
       "|9                | 0.12211|\n",
       "|10               | 0.07137|\n",
       "|11               | 0.03317|\n",
       "|12               | 0.01203|\n",
       "|13               | 0.00339|\n",
       "|14               | 0.00052|\n",
       "|15               | 0.00011|\n",
       "|16               | 0.00001|"
      ]
     },
     "metadata": {},
     "output_type": "display_data"
    }
   ],
   "source": [
    "tabla <- table(supervivientes_m)\n",
    "tabla_f <- prop.table(tabla)\n",
    "\n",
    "knitr::kable(\n",
    "  tabla,\n",
    "  caption = \"Frecuencias absolutas\"\n",
    ")\n",
    "\n",
    "knitr::kable(\n",
    "  tabla_f,\n",
    "  caption = \"Frecuencias relativas\"\n",
    ")"
   ]
  },
  {
   "cell_type": "markdown",
   "id": "0431b56e",
   "metadata": {},
   "source": [
    "Porcentaje de resultados con 3 o menos supervivientes"
   ]
  },
  {
   "cell_type": "code",
   "execution_count": 5,
   "id": "5b9294e3",
   "metadata": {},
   "outputs": [
    {
     "data": {
      "text/html": [
       "4.857"
      ],
      "text/latex": [
       "4.857"
      ],
      "text/markdown": [
       "4.857"
      ],
      "text/plain": [
       "[1] 4.857"
      ]
     },
     "metadata": {},
     "output_type": "display_data"
    }
   ],
   "source": [
    "tablamenor3 <- table(supervivientes_m, exclude=c(4,5,6,7,8,9,10,11,12,13,14,15,16))\n",
    "menor3 <- sum(tablamenor3) \n",
    "total <- sum(tabla)\n",
    "100*menor3/total"
   ]
  },
  {
   "cell_type": "markdown",
   "id": "2320215b",
   "metadata": {},
   "source": [
    "Según la simulación el número medio de superviventes está alrededor de 7 y el porcentaje de ocasiones en las que sobreviven 3 o menos jugadores es menor del 5%. Por lo tanto podríamos decir que el resultado que se produce en la serie (3 supervivientes) es muy poco probable e inferior al esperado."
   ]
  },
  {
   "cell_type": "markdown",
   "id": "b55381b4",
   "metadata": {},
   "source": [
    "Esta misma simulación podríamos haberla realizado utilizando la distribución binomial para calcular el número de éxitos en cada paseo directamente en lugar de generar los valores individuales para cada paso."
   ]
  }
 ],
 "metadata": {
  "kernelspec": {
   "display_name": "R",
   "language": "R",
   "name": "ir"
  },
  "language_info": {
   "codemirror_mode": "r",
   "file_extension": ".r",
   "mimetype": "text/x-r-source",
   "name": "R",
   "pygments_lexer": "r",
   "version": "3.6.1"
  }
 },
 "nbformat": 4,
 "nbformat_minor": 5
}
